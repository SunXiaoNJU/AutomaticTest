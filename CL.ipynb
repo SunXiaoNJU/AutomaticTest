{
  "cells": [
    {
      "cell_type": "markdown",
      "metadata": {
        "id": "Br2b1HILO7F6"
      },
      "source": [
        "# Text Classification with TensorFlow, Keras, and Cleanlab\n"
      ]
    },
    {
      "cell_type": "code",
      "execution_count": 168,
      "metadata": {
        "execution": {
          "iopub.execute_input": "2022-11-28T16:40:46.037160Z",
          "iopub.status.busy": "2022-11-28T16:40:46.036598Z",
          "iopub.status.idle": "2022-11-28T16:40:48.906991Z",
          "shell.execute_reply": "2022-11-28T16:40:48.906213Z"
        },
        "nbsphinx": "hidden",
        "colab": {
          "base_uri": "https://localhost:8080/"
        },
        "id": "knT-DdmOO7GC",
        "outputId": "3c49534f-b901-4b67-e4bd-1dde52bcc2cc"
      },
      "outputs": [
        {
          "output_type": "stream",
          "name": "stdout",
          "text": [
            "Looking in indexes: https://pypi.org/simple, https://us-python.pkg.dev/colab-wheels/public/simple/\n",
            "Requirement already satisfied: cleanlab==v2.2.0 in /usr/local/lib/python3.7/dist-packages (2.2.0)\n",
            "Requirement already satisfied: numpy>=1.11.3 in /usr/local/lib/python3.7/dist-packages (from cleanlab==v2.2.0) (1.21.6)\n",
            "Requirement already satisfied: scikit-learn>=0.18 in /usr/local/lib/python3.7/dist-packages (from cleanlab==v2.2.0) (1.0.2)\n",
            "Requirement already satisfied: termcolor>=1.1.0 in /usr/local/lib/python3.7/dist-packages (from cleanlab==v2.2.0) (2.1.0)\n",
            "Requirement already satisfied: pandas>=1.0.0 in /usr/local/lib/python3.7/dist-packages (from cleanlab==v2.2.0) (1.3.5)\n",
            "Requirement already satisfied: tqdm>=4.53.0 in /usr/local/lib/python3.7/dist-packages (from cleanlab==v2.2.0) (4.64.1)\n",
            "Requirement already satisfied: python-dateutil>=2.7.3 in /usr/local/lib/python3.7/dist-packages (from pandas>=1.0.0->cleanlab==v2.2.0) (2.8.2)\n",
            "Requirement already satisfied: pytz>=2017.3 in /usr/local/lib/python3.7/dist-packages (from pandas>=1.0.0->cleanlab==v2.2.0) (2022.6)\n",
            "Requirement already satisfied: six>=1.5 in /usr/local/lib/python3.7/dist-packages (from python-dateutil>=2.7.3->pandas>=1.0.0->cleanlab==v2.2.0) (1.15.0)\n",
            "Requirement already satisfied: joblib>=0.11 in /usr/local/lib/python3.7/dist-packages (from scikit-learn>=0.18->cleanlab==v2.2.0) (1.2.0)\n",
            "Requirement already satisfied: scipy>=1.1.0 in /usr/local/lib/python3.7/dist-packages (from scikit-learn>=0.18->cleanlab==v2.2.0) (1.7.3)\n",
            "Requirement already satisfied: threadpoolctl>=2.0.0 in /usr/local/lib/python3.7/dist-packages (from scikit-learn>=0.18->cleanlab==v2.2.0) (3.1.0)\n",
            "Looking in indexes: https://pypi.org/simple, https://us-python.pkg.dev/colab-wheels/public/simple/\n",
            "Requirement already satisfied: sklearn in /usr/local/lib/python3.7/dist-packages (0.0.post1)\n",
            "Requirement already satisfied: tensorflow in /usr/local/lib/python3.7/dist-packages (2.9.2)\n",
            "Requirement already satisfied: tensorflow_datasets in /usr/local/lib/python3.7/dist-packages (4.6.0)\n",
            "Requirement already satisfied: scikeras in /usr/local/lib/python3.7/dist-packages (0.9.0)\n",
            "Requirement already satisfied: h5py>=2.9.0 in /usr/local/lib/python3.7/dist-packages (from tensorflow) (3.1.0)\n",
            "Requirement already satisfied: termcolor>=1.1.0 in /usr/local/lib/python3.7/dist-packages (from tensorflow) (2.1.0)\n",
            "Requirement already satisfied: setuptools in /usr/local/lib/python3.7/dist-packages (from tensorflow) (57.4.0)\n",
            "Requirement already satisfied: keras-preprocessing>=1.1.1 in /usr/local/lib/python3.7/dist-packages (from tensorflow) (1.1.2)\n",
            "Requirement already satisfied: absl-py>=1.0.0 in /usr/local/lib/python3.7/dist-packages (from tensorflow) (1.3.0)\n",
            "Requirement already satisfied: opt-einsum>=2.3.2 in /usr/local/lib/python3.7/dist-packages (from tensorflow) (3.3.0)\n",
            "Requirement already satisfied: numpy>=1.20 in /usr/local/lib/python3.7/dist-packages (from tensorflow) (1.21.6)\n",
            "Requirement already satisfied: tensorboard<2.10,>=2.9 in /usr/local/lib/python3.7/dist-packages (from tensorflow) (2.9.1)\n",
            "Requirement already satisfied: six>=1.12.0 in /usr/local/lib/python3.7/dist-packages (from tensorflow) (1.15.0)\n",
            "Requirement already satisfied: typing-extensions>=3.6.6 in /usr/local/lib/python3.7/dist-packages (from tensorflow) (4.1.1)\n",
            "Requirement already satisfied: keras<2.10.0,>=2.9.0rc0 in /usr/local/lib/python3.7/dist-packages (from tensorflow) (2.9.0)\n",
            "Requirement already satisfied: gast<=0.4.0,>=0.2.1 in /usr/local/lib/python3.7/dist-packages (from tensorflow) (0.4.0)\n",
            "Requirement already satisfied: tensorflow-io-gcs-filesystem>=0.23.1 in /usr/local/lib/python3.7/dist-packages (from tensorflow) (0.27.0)\n",
            "Requirement already satisfied: tensorflow-estimator<2.10.0,>=2.9.0rc0 in /usr/local/lib/python3.7/dist-packages (from tensorflow) (2.9.0)\n",
            "Requirement already satisfied: google-pasta>=0.1.1 in /usr/local/lib/python3.7/dist-packages (from tensorflow) (0.2.0)\n",
            "Requirement already satisfied: astunparse>=1.6.0 in /usr/local/lib/python3.7/dist-packages (from tensorflow) (1.6.3)\n",
            "Requirement already satisfied: flatbuffers<2,>=1.12 in /usr/local/lib/python3.7/dist-packages (from tensorflow) (1.12)\n",
            "Requirement already satisfied: packaging in /usr/local/lib/python3.7/dist-packages (from tensorflow) (21.3)\n",
            "Requirement already satisfied: protobuf<3.20,>=3.9.2 in /usr/local/lib/python3.7/dist-packages (from tensorflow) (3.19.6)\n",
            "Requirement already satisfied: wrapt>=1.11.0 in /usr/local/lib/python3.7/dist-packages (from tensorflow) (1.14.1)\n",
            "Requirement already satisfied: grpcio<2.0,>=1.24.3 in /usr/local/lib/python3.7/dist-packages (from tensorflow) (1.50.0)\n",
            "Requirement already satisfied: libclang>=13.0.0 in /usr/local/lib/python3.7/dist-packages (from tensorflow) (14.0.6)\n",
            "Requirement already satisfied: wheel<1.0,>=0.23.0 in /usr/local/lib/python3.7/dist-packages (from astunparse>=1.6.0->tensorflow) (0.38.4)\n",
            "Requirement already satisfied: cached-property in /usr/local/lib/python3.7/dist-packages (from h5py>=2.9.0->tensorflow) (1.5.2)\n",
            "Requirement already satisfied: google-auth-oauthlib<0.5,>=0.4.1 in /usr/local/lib/python3.7/dist-packages (from tensorboard<2.10,>=2.9->tensorflow) (0.4.6)\n",
            "Requirement already satisfied: requests<3,>=2.21.0 in /usr/local/lib/python3.7/dist-packages (from tensorboard<2.10,>=2.9->tensorflow) (2.23.0)\n",
            "Requirement already satisfied: tensorboard-plugin-wit>=1.6.0 in /usr/local/lib/python3.7/dist-packages (from tensorboard<2.10,>=2.9->tensorflow) (1.8.1)\n",
            "Requirement already satisfied: google-auth<3,>=1.6.3 in /usr/local/lib/python3.7/dist-packages (from tensorboard<2.10,>=2.9->tensorflow) (2.14.1)\n",
            "Requirement already satisfied: werkzeug>=1.0.1 in /usr/local/lib/python3.7/dist-packages (from tensorboard<2.10,>=2.9->tensorflow) (1.0.1)\n",
            "Requirement already satisfied: tensorboard-data-server<0.7.0,>=0.6.0 in /usr/local/lib/python3.7/dist-packages (from tensorboard<2.10,>=2.9->tensorflow) (0.6.1)\n",
            "Requirement already satisfied: markdown>=2.6.8 in /usr/local/lib/python3.7/dist-packages (from tensorboard<2.10,>=2.9->tensorflow) (3.4.1)\n",
            "Requirement already satisfied: pyasn1-modules>=0.2.1 in /usr/local/lib/python3.7/dist-packages (from google-auth<3,>=1.6.3->tensorboard<2.10,>=2.9->tensorflow) (0.2.8)\n",
            "Requirement already satisfied: cachetools<6.0,>=2.0.0 in /usr/local/lib/python3.7/dist-packages (from google-auth<3,>=1.6.3->tensorboard<2.10,>=2.9->tensorflow) (5.2.0)\n",
            "Requirement already satisfied: rsa<5,>=3.1.4 in /usr/local/lib/python3.7/dist-packages (from google-auth<3,>=1.6.3->tensorboard<2.10,>=2.9->tensorflow) (4.9)\n",
            "Requirement already satisfied: requests-oauthlib>=0.7.0 in /usr/local/lib/python3.7/dist-packages (from google-auth-oauthlib<0.5,>=0.4.1->tensorboard<2.10,>=2.9->tensorflow) (1.3.1)\n",
            "Requirement already satisfied: importlib-metadata>=4.4 in /usr/local/lib/python3.7/dist-packages (from markdown>=2.6.8->tensorboard<2.10,>=2.9->tensorflow) (4.13.0)\n",
            "Requirement already satisfied: zipp>=0.5 in /usr/local/lib/python3.7/dist-packages (from importlib-metadata>=4.4->markdown>=2.6.8->tensorboard<2.10,>=2.9->tensorflow) (3.10.0)\n",
            "Requirement already satisfied: pyasn1<0.5.0,>=0.4.6 in /usr/local/lib/python3.7/dist-packages (from pyasn1-modules>=0.2.1->google-auth<3,>=1.6.3->tensorboard<2.10,>=2.9->tensorflow) (0.4.8)\n",
            "Requirement already satisfied: certifi>=2017.4.17 in /usr/local/lib/python3.7/dist-packages (from requests<3,>=2.21.0->tensorboard<2.10,>=2.9->tensorflow) (2022.9.24)\n",
            "Requirement already satisfied: urllib3!=1.25.0,!=1.25.1,<1.26,>=1.21.1 in /usr/local/lib/python3.7/dist-packages (from requests<3,>=2.21.0->tensorboard<2.10,>=2.9->tensorflow) (1.24.3)\n",
            "Requirement already satisfied: chardet<4,>=3.0.2 in /usr/local/lib/python3.7/dist-packages (from requests<3,>=2.21.0->tensorboard<2.10,>=2.9->tensorflow) (3.0.4)\n",
            "Requirement already satisfied: idna<3,>=2.5 in /usr/local/lib/python3.7/dist-packages (from requests<3,>=2.21.0->tensorboard<2.10,>=2.9->tensorflow) (2.10)\n",
            "Requirement already satisfied: oauthlib>=3.0.0 in /usr/local/lib/python3.7/dist-packages (from requests-oauthlib>=0.7.0->google-auth-oauthlib<0.5,>=0.4.1->tensorboard<2.10,>=2.9->tensorflow) (3.2.2)\n",
            "Requirement already satisfied: dill in /usr/local/lib/python3.7/dist-packages (from tensorflow_datasets) (0.3.6)\n",
            "Requirement already satisfied: etils[epath] in /usr/local/lib/python3.7/dist-packages (from tensorflow_datasets) (0.9.0)\n",
            "Requirement already satisfied: importlib-resources in /usr/local/lib/python3.7/dist-packages (from tensorflow_datasets) (5.10.0)\n",
            "Requirement already satisfied: tqdm in /usr/local/lib/python3.7/dist-packages (from tensorflow_datasets) (4.64.1)\n",
            "Requirement already satisfied: toml in /usr/local/lib/python3.7/dist-packages (from tensorflow_datasets) (0.10.2)\n",
            "Requirement already satisfied: tensorflow-metadata in /usr/local/lib/python3.7/dist-packages (from tensorflow_datasets) (1.11.0)\n",
            "Requirement already satisfied: promise in /usr/local/lib/python3.7/dist-packages (from tensorflow_datasets) (2.3)\n",
            "Requirement already satisfied: scikit-learn>=1.0.0 in /usr/local/lib/python3.7/dist-packages (from scikeras) (1.0.2)\n",
            "Requirement already satisfied: pyparsing!=3.0.5,>=2.0.2 in /usr/local/lib/python3.7/dist-packages (from packaging->tensorflow) (3.0.9)\n",
            "Requirement already satisfied: threadpoolctl>=2.0.0 in /usr/local/lib/python3.7/dist-packages (from scikit-learn>=1.0.0->scikeras) (3.1.0)\n",
            "Requirement already satisfied: joblib>=0.11 in /usr/local/lib/python3.7/dist-packages (from scikit-learn>=1.0.0->scikeras) (1.2.0)\n",
            "Requirement already satisfied: scipy>=1.1.0 in /usr/local/lib/python3.7/dist-packages (from scikit-learn>=1.0.0->scikeras) (1.7.3)\n",
            "Requirement already satisfied: googleapis-common-protos<2,>=1.52.0 in /usr/local/lib/python3.7/dist-packages (from tensorflow-metadata->tensorflow_datasets) (1.57.0)\n"
          ]
        }
      ],
      "source": [
        "# Package installation (hidden on docs.cleanlab.ai).\n",
        "# If running on Colab, may want to use GPU (select: Runtime > Change runtime type > Hardware accelerator > GPU)\n",
        "# Package versions we used: tensorflow==2.9.1 scikeras==0.6.1 tensorflow_datasets==4.5.2\n",
        "dependencies = [\"cleanlab\", \"sklearn\", \"tensorflow\", \"tensorflow_datasets\", \"scikeras\"]\n",
        "\n",
        "# Supress outputs that may appear if tensorflow happens to be improperly installed: \n",
        "import os \n",
        "import logging \n",
        "os.environ[\"TF_CPP_MIN_LOG_LEVEL\"] = \"3\"  # suppress tensorflow log output \n",
        "logging.getLogger('tensorflow').setLevel(logging.FATAL) \n",
        "\n",
        "if \"google.colab\" in str(get_ipython()):  # Check if it's running in Google Colab\n",
        "    %pip install cleanlab==v2.2.0\n",
        "    cmd = ' '.join([dep for dep in dependencies if dep != \"cleanlab\"])\n",
        "    %pip install $cmd\n",
        "else:\n",
        "    missing_dependencies = []\n",
        "    for dependency in dependencies:\n",
        "        try:\n",
        "            __import__(dependency)\n",
        "        except ImportError:\n",
        "            missing_dependencies.append(dependency)\n",
        "\n",
        "    if len(missing_dependencies) > 0:\n",
        "        print(\"Missing required dependencies:\")\n",
        "        print(*missing_dependencies, sep=\", \")\n",
        "        print(\"\\nPlease install them before running the rest of this notebook.\")"
      ]
    },
    {
      "cell_type": "code",
      "execution_count": 169,
      "metadata": {
        "execution": {
          "iopub.execute_input": "2022-11-28T16:40:48.911753Z",
          "iopub.status.busy": "2022-11-28T16:40:48.911101Z",
          "iopub.status.idle": "2022-11-28T16:40:48.921557Z",
          "shell.execute_reply": "2022-11-28T16:40:48.920902Z"
        },
        "id": "WcSAw5RbO7GD"
      },
      "outputs": [],
      "source": [
        "import re \n",
        "import string \n",
        "import collections\n",
        "import pathlib\n",
        "import tensorflow as tf \n",
        "import pandas as pd \n",
        "import tensorflow_datasets as tfds \n",
        "from sklearn.metrics import accuracy_score, log_loss \n",
        "from sklearn.model_selection import cross_val_predict \n",
        "from tensorflow.keras import layers \n",
        "from scikeras.wrappers import KerasClassifier \n",
        "from tensorflow.keras import losses\n",
        "from tensorflow.keras import utils\n",
        "from tensorflow.keras.layers import TextVectorization\n",
        "\n",
        "\n",
        "SEED = 123456  # for reproducibility "
      ]
    },
    {
      "cell_type": "code",
      "execution_count": 170,
      "metadata": {
        "execution": {
          "iopub.execute_input": "2022-11-28T16:40:48.925061Z",
          "iopub.status.busy": "2022-11-28T16:40:48.924667Z",
          "iopub.status.idle": "2022-11-28T16:40:48.928940Z",
          "shell.execute_reply": "2022-11-28T16:40:48.928201Z"
        },
        "nbsphinx": "hidden",
        "id": "_VHtgbkGO7GE"
      },
      "outputs": [],
      "source": [
        "# This cell is hidden from docs.cleanlab.ai \n",
        "\n",
        "import random \n",
        "import numpy as np \n",
        "\n",
        "pd.set_option(\"display.max_colwidth\", None) \n",
        "\n",
        "tf.keras.utils.set_random_seed(SEED)\n",
        "np.random.seed(SEED)\n",
        "random.seed(SEED)"
      ]
    },
    {
      "cell_type": "code",
      "source": [
        "data_url = 'https://github.com/traaaariad/AutomaticTestHomework/raw/main/txt10.tar.gz'\n",
        "\n",
        "dataset_dir = utils.get_file(\n",
        "    origin=data_url,\n",
        "    untar=True,\n",
        "    cache_dir='txt',\n",
        "    cache_subdir='')\n",
        "\n",
        "dataset_dir = pathlib.Path(dataset_dir).parent\n"
      ],
      "metadata": {
        "id": "zjYHbRDJcNgn"
      },
      "execution_count": 171,
      "outputs": []
    },
    {
      "cell_type": "code",
      "source": [
        "list(dataset_dir.iterdir())"
      ],
      "metadata": {
        "colab": {
          "base_uri": "https://localhost:8080/"
        },
        "id": "J23sBqjRcRNz",
        "outputId": "ec3a03bc-a0dc-45c3-b770-1258a9f828e0"
      },
      "execution_count": 172,
      "outputs": [
        {
          "output_type": "execute_result",
          "data": {
            "text/plain": [
              "[PosixPath('/tmp/.keras/train'),\n",
              " PosixPath('/tmp/.keras/test'),\n",
              " PosixPath('/tmp/.keras/txt10.tar.gz')]"
            ]
          },
          "metadata": {},
          "execution_count": 172
        }
      ]
    },
    {
      "cell_type": "code",
      "source": [
        "train_dir = dataset_dir/'train'\n",
        "list(train_dir.iterdir())"
      ],
      "metadata": {
        "colab": {
          "base_uri": "https://localhost:8080/"
        },
        "id": "F-EdhKnCcTxP",
        "outputId": "a7f26092-52cf-49f9-e2f5-5c63de601c52"
      },
      "execution_count": 173,
      "outputs": [
        {
          "output_type": "execute_result",
          "data": {
            "text/plain": [
              "[PosixPath('/tmp/.keras/train/open'),\n",
              " PosixPath('/tmp/.keras/train/close'),\n",
              " PosixPath('/tmp/.keras/train/unknown')]"
            ]
          },
          "metadata": {},
          "execution_count": 173
        }
      ]
    },
    {
      "cell_type": "code",
      "source": [
        "batch_size = 1024\n",
        "raw_full_ds = utils.text_dataset_from_directory(\n",
        "    train_dir,\n",
        "    batch_size=batch_size,\n",
        "    seed=SEED)"
      ],
      "metadata": {
        "colab": {
          "base_uri": "https://localhost:8080/"
        },
        "id": "RWbGu3tBcYkW",
        "outputId": "81794338-56c6-4613-b642-9d922af8ec1f"
      },
      "execution_count": 174,
      "outputs": [
        {
          "output_type": "stream",
          "name": "stdout",
          "text": [
            "Found 39434 files belonging to 3 classes.\n"
          ]
        }
      ]
    },
    {
      "cell_type": "code",
      "source": [
        "for text_batch, label_batch in raw_full_ds.take(1):\n",
        "  \n",
        "  for i in range(10):\n",
        "    print(\"Error:\", text_batch.numpy()[i])\n",
        "    print(\"Label:\", label_batch.numpy()[i])\n",
        "\n",
        "raw_full_texts=text_batch.numpy()\n",
        "full_labels=label_batch.numpy()"
      ],
      "metadata": {
        "colab": {
          "base_uri": "https://localhost:8080/"
        },
        "id": "WyIrGCWpdJjR",
        "outputId": "d7af7944-5c4e-49f4-9067-e31d593d1620"
      },
      "execution_count": 175,
      "outputs": [
        {
          "output_type": "stream",
          "name": "stdout",
          "text": [
            "Error: b'Parameter docType should be final'\n",
            "Label: 2\n",
            "Error: b'Method is missing a javadoc comment'\n",
            "Label: 1\n",
            "Error: b'Parameter docType should be final'\n",
            "Label: 2\n",
            "Error: b'Since class \"GeneratedCriteria\" is designed to be inheritable, add javadoc documentation for overridable non-null method \"addCriterion\"'\n",
            "Label: 1\n",
            "Error: b'Parameter docType should be final'\n",
            "Label: 2\n",
            "Error: b'Parameter docType should be final'\n",
            "Label: 2\n",
            "Error: b'Parameter docType should be final'\n",
            "Label: 2\n",
            "Error: b'Parameter docType should be final'\n",
            "Label: 2\n",
            "Error: b'Parameter docType should be final'\n",
            "Label: 2\n",
            "Error: b'Line longer than 80 characters'\n",
            "Label: 1\n"
          ]
        }
      ]
    },
    {
      "cell_type": "code",
      "execution_count": 176,
      "metadata": {
        "execution": {
          "iopub.execute_input": "2022-11-28T16:41:29.862060Z",
          "iopub.status.busy": "2022-11-28T16:41:29.861799Z",
          "iopub.status.idle": "2022-11-28T16:41:29.865817Z",
          "shell.execute_reply": "2022-11-28T16:41:29.865073Z"
        },
        "colab": {
          "base_uri": "https://localhost:8080/"
        },
        "id": "pzYooqDDO7GI",
        "outputId": "8dd4805e-f762-40e3-d953-e8b1ab95c1b2"
      },
      "outputs": [
        {
          "output_type": "stream",
          "name": "stdout",
          "text": [
            "Example Label: 2\n",
            "Example Text: b'Parameter docType should be final'\n"
          ]
        }
      ],
      "source": [
        "i = 0\n",
        "print(f\"Example Label: {full_labels[i]}\")\n",
        "print(f\"Example Text: {raw_full_texts[i]}\")"
      ]
    },
    {
      "cell_type": "code",
      "source": [
        "for i, label in enumerate(raw_full_ds.class_names):\n",
        "  print(\"Label\", i, \"corresponds to\", label)"
      ],
      "metadata": {
        "colab": {
          "base_uri": "https://localhost:8080/"
        },
        "id": "VSuO_XVK53Zo",
        "outputId": "3588c5c2-0ec0-415a-b0b9-99ab234f2d15"
      },
      "execution_count": 177,
      "outputs": [
        {
          "output_type": "stream",
          "name": "stdout",
          "text": [
            "Label 0 corresponds to close\n",
            "Label 1 corresponds to open\n",
            "Label 2 corresponds to unknown\n"
          ]
        }
      ]
    },
    {
      "cell_type": "code",
      "execution_count": 178,
      "metadata": {
        "execution": {
          "iopub.execute_input": "2022-11-28T16:41:29.870869Z",
          "iopub.status.busy": "2022-11-28T16:41:29.870624Z",
          "iopub.status.idle": "2022-11-28T16:41:29.874524Z",
          "shell.execute_reply": "2022-11-28T16:41:29.873783Z"
        },
        "id": "NWDRQok6O7GJ"
      },
      "outputs": [],
      "source": [
        "def preprocess_text(input_data):\n",
        "    lowercase = tf.strings.lower(input_data)\n",
        "    stripped_html = tf.strings.regex_replace(lowercase, \"<br />\", \" \")\n",
        "    return tf.strings.regex_replace(stripped_html, f\"[{re.escape(string.punctuation)}]\", \"\")"
      ]
    },
    {
      "cell_type": "code",
      "execution_count": 179,
      "metadata": {
        "execution": {
          "iopub.execute_input": "2022-11-28T16:41:29.878193Z",
          "iopub.status.busy": "2022-11-28T16:41:29.877939Z",
          "iopub.status.idle": "2022-11-28T16:41:30.040249Z",
          "shell.execute_reply": "2022-11-28T16:41:30.039448Z"
        },
        "id": "0d3Hkga3O7GJ"
      },
      "outputs": [],
      "source": [
        "max_features = 10000\n",
        "sequence_length = 250\n",
        "\n",
        "vectorize_layer = layers.TextVectorization(\n",
        "    standardize=preprocess_text,\n",
        "    max_tokens=max_features,\n",
        "    output_mode=\"int\",\n",
        "    output_sequence_length=sequence_length,\n",
        ")"
      ]
    },
    {
      "cell_type": "code",
      "execution_count": 180,
      "metadata": {
        "execution": {
          "iopub.execute_input": "2022-11-28T16:41:30.044048Z",
          "iopub.status.busy": "2022-11-28T16:41:30.043772Z",
          "iopub.status.idle": "2022-11-28T16:41:36.867820Z",
          "shell.execute_reply": "2022-11-28T16:41:36.867033Z"
        },
        "id": "Ku7uL-fxO7GK"
      },
      "outputs": [],
      "source": [
        "%%capture\n",
        "\n",
        "vectorize_layer.adapt(raw_full_texts)\n",
        "full_texts = vectorize_layer(raw_full_texts)\n",
        "full_texts = full_texts.numpy()"
      ]
    },
    {
      "cell_type": "code",
      "execution_count": 181,
      "metadata": {
        "execution": {
          "iopub.execute_input": "2022-11-28T16:41:36.872614Z",
          "iopub.status.busy": "2022-11-28T16:41:36.872020Z",
          "iopub.status.idle": "2022-11-28T16:41:36.877259Z",
          "shell.execute_reply": "2022-11-28T16:41:36.876496Z"
        },
        "id": "cyrhzFKRO7GK"
      },
      "outputs": [],
      "source": [
        "def get_net():\n",
        "    net = tf.keras.Sequential(\n",
        "        [\n",
        "            tf.keras.Input(shape=(None,), dtype=\"int64\"),\n",
        "            layers.Embedding(max_features + 1, 16),\n",
        "            layers.Dropout(0.2),\n",
        "            layers.GlobalAveragePooling1D(),\n",
        "            layers.Dense(3),#classnum?\n",
        "            layers.Softmax()\n",
        "        ]\n",
        "    )  # outputs probability that text belongs to class 1\n",
        "\n",
        "    net.compile(\n",
        "        optimizer=\"adam\",\n",
        "        loss=tf.keras.losses.SparseCategoricalCrossentropy(),\n",
        "        metrics=tf.keras.metrics.CategoricalAccuracy(),\n",
        "    )\n",
        "    return net"
      ]
    },
    {
      "cell_type": "code",
      "execution_count": 182,
      "metadata": {
        "execution": {
          "iopub.execute_input": "2022-11-28T16:41:36.880764Z",
          "iopub.status.busy": "2022-11-28T16:41:36.880374Z",
          "iopub.status.idle": "2022-11-28T16:41:36.931116Z",
          "shell.execute_reply": "2022-11-28T16:41:36.930345Z"
        },
        "id": "euudhpDUO7GL"
      },
      "outputs": [],
      "source": [
        "model = KerasClassifier(get_net(), epochs=20)"
      ]
    },
    {
      "cell_type": "code",
      "execution_count": 183,
      "metadata": {
        "execution": {
          "iopub.execute_input": "2022-11-28T16:41:36.935442Z",
          "iopub.status.busy": "2022-11-28T16:41:36.935178Z",
          "iopub.status.idle": "2022-11-28T16:43:43.167428Z",
          "shell.execute_reply": "2022-11-28T16:43:43.166612Z"
        },
        "colab": {
          "base_uri": "https://localhost:8080/"
        },
        "id": "PvnsPibwO7GL",
        "outputId": "5340c321-a08a-4655-90a1-3e5d8de0a38a"
      },
      "outputs": [
        {
          "output_type": "stream",
          "name": "stdout",
          "text": [
            "Epoch 1/20\n",
            "26/26 [==============================] - 1s 4ms/step - loss: 1.0585 - categorical_accuracy: 0.0000e+00\n",
            "Epoch 2/20\n",
            "26/26 [==============================] - 0s 5ms/step - loss: 1.0063 - categorical_accuracy: 0.0000e+00\n",
            "Epoch 3/20\n",
            "26/26 [==============================] - 0s 6ms/step - loss: 0.9539 - categorical_accuracy: 0.0000e+00\n",
            "Epoch 4/20\n",
            "26/26 [==============================] - 0s 5ms/step - loss: 0.9024 - categorical_accuracy: 0.0000e+00\n",
            "Epoch 5/20\n",
            "26/26 [==============================] - 0s 4ms/step - loss: 0.8561 - categorical_accuracy: 0.0000e+00\n",
            "Epoch 6/20\n",
            "26/26 [==============================] - 0s 4ms/step - loss: 0.8184 - categorical_accuracy: 0.0000e+00\n",
            "Epoch 7/20\n",
            "26/26 [==============================] - 0s 4ms/step - loss: 0.7886 - categorical_accuracy: 0.0000e+00\n",
            "Epoch 8/20\n",
            "26/26 [==============================] - 0s 4ms/step - loss: 0.7667 - categorical_accuracy: 0.0000e+00\n",
            "Epoch 9/20\n",
            "26/26 [==============================] - 0s 4ms/step - loss: 0.7505 - categorical_accuracy: 0.0000e+00\n",
            "Epoch 10/20\n",
            "26/26 [==============================] - 0s 4ms/step - loss: 0.7378 - categorical_accuracy: 0.0000e+00\n",
            "Epoch 11/20\n",
            "26/26 [==============================] - 0s 4ms/step - loss: 0.7279 - categorical_accuracy: 0.0000e+00\n",
            "Epoch 12/20\n",
            "26/26 [==============================] - 0s 3ms/step - loss: 0.7190 - categorical_accuracy: 0.0000e+00\n",
            "Epoch 13/20\n",
            "26/26 [==============================] - 0s 4ms/step - loss: 0.7122 - categorical_accuracy: 0.0000e+00\n",
            "Epoch 14/20\n",
            "26/26 [==============================] - 0s 4ms/step - loss: 0.7060 - categorical_accuracy: 0.0000e+00\n",
            "Epoch 15/20\n",
            "26/26 [==============================] - 0s 4ms/step - loss: 0.7000 - categorical_accuracy: 0.0000e+00\n",
            "Epoch 16/20\n",
            "26/26 [==============================] - 0s 4ms/step - loss: 0.6943 - categorical_accuracy: 0.0000e+00\n",
            "Epoch 17/20\n",
            "26/26 [==============================] - 0s 4ms/step - loss: 0.6884 - categorical_accuracy: 0.0000e+00\n",
            "Epoch 18/20\n",
            "26/26 [==============================] - 0s 4ms/step - loss: 0.6827 - categorical_accuracy: 0.0000e+00\n",
            "Epoch 19/20\n",
            "26/26 [==============================] - 0s 4ms/step - loss: 0.6770 - categorical_accuracy: 0.0000e+00\n",
            "Epoch 20/20\n",
            "26/26 [==============================] - 0s 4ms/step - loss: 0.6717 - categorical_accuracy: 0.0000e+00\n",
            "7/7 [==============================] - 0s 2ms/step\n",
            "Epoch 1/20\n",
            "26/26 [==============================] - 1s 4ms/step - loss: 1.0577 - categorical_accuracy: 0.0000e+00\n",
            "Epoch 2/20\n",
            "26/26 [==============================] - 0s 4ms/step - loss: 1.0038 - categorical_accuracy: 0.0000e+00\n",
            "Epoch 3/20\n",
            "26/26 [==============================] - 0s 4ms/step - loss: 0.9499 - categorical_accuracy: 0.0000e+00\n",
            "Epoch 4/20\n",
            "26/26 [==============================] - 0s 4ms/step - loss: 0.8977 - categorical_accuracy: 0.0000e+00\n",
            "Epoch 5/20\n",
            "26/26 [==============================] - 0s 3ms/step - loss: 0.8517 - categorical_accuracy: 0.0000e+00\n",
            "Epoch 6/20\n",
            "26/26 [==============================] - 0s 3ms/step - loss: 0.8141 - categorical_accuracy: 0.0000e+00\n",
            "Epoch 7/20\n",
            "26/26 [==============================] - 0s 3ms/step - loss: 0.7857 - categorical_accuracy: 0.0000e+00\n",
            "Epoch 8/20\n",
            "26/26 [==============================] - 0s 3ms/step - loss: 0.7639 - categorical_accuracy: 0.0000e+00\n",
            "Epoch 9/20\n",
            "26/26 [==============================] - 0s 4ms/step - loss: 0.7483 - categorical_accuracy: 0.0000e+00\n",
            "Epoch 10/20\n",
            "26/26 [==============================] - 0s 5ms/step - loss: 0.7359 - categorical_accuracy: 0.0000e+00\n",
            "Epoch 11/20\n",
            "26/26 [==============================] - 0s 6ms/step - loss: 0.7263 - categorical_accuracy: 0.0000e+00\n",
            "Epoch 12/20\n",
            "26/26 [==============================] - 0s 6ms/step - loss: 0.7181 - categorical_accuracy: 0.0000e+00\n",
            "Epoch 13/20\n",
            "26/26 [==============================] - 0s 5ms/step - loss: 0.7107 - categorical_accuracy: 0.0000e+00\n",
            "Epoch 14/20\n",
            "26/26 [==============================] - 0s 6ms/step - loss: 0.7056 - categorical_accuracy: 0.0000e+00\n",
            "Epoch 15/20\n",
            "26/26 [==============================] - 0s 6ms/step - loss: 0.6990 - categorical_accuracy: 0.0000e+00\n",
            "Epoch 16/20\n",
            "26/26 [==============================] - 0s 6ms/step - loss: 0.6937 - categorical_accuracy: 0.0000e+00\n",
            "Epoch 17/20\n",
            "26/26 [==============================] - 0s 6ms/step - loss: 0.6878 - categorical_accuracy: 0.0000e+00\n",
            "Epoch 18/20\n",
            "26/26 [==============================] - 0s 7ms/step - loss: 0.6817 - categorical_accuracy: 0.0000e+00\n",
            "Epoch 19/20\n",
            "26/26 [==============================] - 0s 6ms/step - loss: 0.6762 - categorical_accuracy: 0.0000e+00\n",
            "Epoch 20/20\n",
            "26/26 [==============================] - 0s 6ms/step - loss: 0.6705 - categorical_accuracy: 0.0000e+00\n",
            "7/7 [==============================] - 0s 3ms/step\n",
            "Epoch 1/20\n",
            "26/26 [==============================] - 1s 6ms/step - loss: 1.0581 - categorical_accuracy: 0.0000e+00\n",
            "Epoch 2/20\n",
            "26/26 [==============================] - 0s 6ms/step - loss: 1.0054 - categorical_accuracy: 0.0000e+00\n",
            "Epoch 3/20\n",
            "26/26 [==============================] - 0s 7ms/step - loss: 0.9518 - categorical_accuracy: 0.0000e+00\n",
            "Epoch 4/20\n",
            "26/26 [==============================] - 0s 5ms/step - loss: 0.8991 - categorical_accuracy: 0.0000e+00\n",
            "Epoch 5/20\n",
            "26/26 [==============================] - 0s 6ms/step - loss: 0.8519 - categorical_accuracy: 0.0000e+00\n",
            "Epoch 6/20\n",
            "26/26 [==============================] - 0s 6ms/step - loss: 0.8135 - categorical_accuracy: 0.0000e+00\n",
            "Epoch 7/20\n",
            "26/26 [==============================] - 0s 7ms/step - loss: 0.7849 - categorical_accuracy: 0.0000e+00\n",
            "Epoch 8/20\n",
            "26/26 [==============================] - 0s 8ms/step - loss: 0.7630 - categorical_accuracy: 0.0000e+00\n",
            "Epoch 9/20\n",
            "26/26 [==============================] - 0s 8ms/step - loss: 0.7466 - categorical_accuracy: 0.0000e+00\n",
            "Epoch 10/20\n",
            "26/26 [==============================] - 0s 6ms/step - loss: 0.7338 - categorical_accuracy: 0.0000e+00\n",
            "Epoch 11/20\n",
            "26/26 [==============================] - 0s 5ms/step - loss: 0.7239 - categorical_accuracy: 0.0000e+00\n",
            "Epoch 12/20\n",
            "26/26 [==============================] - 0s 5ms/step - loss: 0.7158 - categorical_accuracy: 0.0000e+00\n",
            "Epoch 13/20\n",
            "26/26 [==============================] - 0s 5ms/step - loss: 0.7081 - categorical_accuracy: 0.0000e+00\n",
            "Epoch 14/20\n",
            "26/26 [==============================] - 0s 6ms/step - loss: 0.7022 - categorical_accuracy: 0.0000e+00\n",
            "Epoch 15/20\n",
            "26/26 [==============================] - 0s 8ms/step - loss: 0.6958 - categorical_accuracy: 0.0000e+00\n",
            "Epoch 16/20\n",
            "26/26 [==============================] - 0s 6ms/step - loss: 0.6897 - categorical_accuracy: 0.0000e+00\n",
            "Epoch 17/20\n",
            "26/26 [==============================] - 0s 5ms/step - loss: 0.6843 - categorical_accuracy: 0.0000e+00\n",
            "Epoch 18/20\n",
            "26/26 [==============================] - 0s 6ms/step - loss: 0.6785 - categorical_accuracy: 0.0000e+00\n",
            "Epoch 19/20\n",
            "26/26 [==============================] - 0s 5ms/step - loss: 0.6722 - categorical_accuracy: 0.0000e+00\n",
            "Epoch 20/20\n",
            "26/26 [==============================] - 0s 6ms/step - loss: 0.6667 - categorical_accuracy: 0.0000e+00\n",
            "7/7 [==============================] - 0s 2ms/step\n",
            "Epoch 1/20\n",
            "26/26 [==============================] - 0s 4ms/step - loss: 1.0577 - categorical_accuracy: 0.0000e+00\n",
            "Epoch 2/20\n",
            "26/26 [==============================] - 0s 4ms/step - loss: 1.0053 - categorical_accuracy: 0.0000e+00\n",
            "Epoch 3/20\n",
            "26/26 [==============================] - 0s 4ms/step - loss: 0.9527 - categorical_accuracy: 0.0000e+00\n",
            "Epoch 4/20\n",
            "26/26 [==============================] - 0s 4ms/step - loss: 0.9001 - categorical_accuracy: 0.0000e+00\n",
            "Epoch 5/20\n",
            "26/26 [==============================] - 0s 3ms/step - loss: 0.8533 - categorical_accuracy: 0.0000e+00\n",
            "Epoch 6/20\n",
            "26/26 [==============================] - 0s 4ms/step - loss: 0.8151 - categorical_accuracy: 0.0000e+00\n",
            "Epoch 7/20\n",
            "26/26 [==============================] - 0s 4ms/step - loss: 0.7858 - categorical_accuracy: 0.0000e+00\n",
            "Epoch 8/20\n",
            "26/26 [==============================] - 0s 4ms/step - loss: 0.7637 - categorical_accuracy: 0.0000e+00\n",
            "Epoch 9/20\n",
            "26/26 [==============================] - 0s 4ms/step - loss: 0.7472 - categorical_accuracy: 0.0000e+00\n",
            "Epoch 10/20\n",
            "26/26 [==============================] - 0s 4ms/step - loss: 0.7345 - categorical_accuracy: 0.0000e+00\n",
            "Epoch 11/20\n",
            "26/26 [==============================] - 0s 4ms/step - loss: 0.7241 - categorical_accuracy: 0.0000e+00\n",
            "Epoch 12/20\n",
            "26/26 [==============================] - 0s 4ms/step - loss: 0.7164 - categorical_accuracy: 0.0000e+00\n",
            "Epoch 13/20\n",
            "26/26 [==============================] - 0s 4ms/step - loss: 0.7084 - categorical_accuracy: 0.0000e+00\n",
            "Epoch 14/20\n",
            "26/26 [==============================] - 0s 4ms/step - loss: 0.7019 - categorical_accuracy: 0.0000e+00\n",
            "Epoch 15/20\n",
            "26/26 [==============================] - 0s 4ms/step - loss: 0.6958 - categorical_accuracy: 0.0000e+00\n",
            "Epoch 16/20\n",
            "26/26 [==============================] - 0s 4ms/step - loss: 0.6900 - categorical_accuracy: 0.0000e+00\n",
            "Epoch 17/20\n",
            "26/26 [==============================] - 0s 4ms/step - loss: 0.6845 - categorical_accuracy: 0.0000e+00\n",
            "Epoch 18/20\n",
            "26/26 [==============================] - 0s 4ms/step - loss: 0.6779 - categorical_accuracy: 0.0000e+00\n",
            "Epoch 19/20\n",
            "26/26 [==============================] - 0s 4ms/step - loss: 0.6723 - categorical_accuracy: 0.0000e+00\n",
            "Epoch 20/20\n",
            "26/26 [==============================] - 0s 4ms/step - loss: 0.6659 - categorical_accuracy: 0.0000e+00\n",
            "7/7 [==============================] - 0s 2ms/step\n",
            "Epoch 1/20\n",
            "26/26 [==============================] - 0s 4ms/step - loss: 1.0585 - categorical_accuracy: 0.0000e+00\n",
            "Epoch 2/20\n",
            "26/26 [==============================] - 0s 4ms/step - loss: 1.0063 - categorical_accuracy: 0.0000e+00\n",
            "Epoch 3/20\n",
            "26/26 [==============================] - 0s 4ms/step - loss: 0.9544 - categorical_accuracy: 0.0000e+00\n",
            "Epoch 4/20\n",
            "26/26 [==============================] - 0s 4ms/step - loss: 0.9028 - categorical_accuracy: 0.0000e+00\n",
            "Epoch 5/20\n",
            "26/26 [==============================] - 0s 4ms/step - loss: 0.8567 - categorical_accuracy: 0.0000e+00\n",
            "Epoch 6/20\n",
            "26/26 [==============================] - 0s 4ms/step - loss: 0.8183 - categorical_accuracy: 0.0000e+00\n",
            "Epoch 7/20\n",
            "26/26 [==============================] - 0s 4ms/step - loss: 0.7896 - categorical_accuracy: 0.0000e+00\n",
            "Epoch 8/20\n",
            "26/26 [==============================] - 0s 4ms/step - loss: 0.7675 - categorical_accuracy: 0.0000e+00\n",
            "Epoch 9/20\n",
            "26/26 [==============================] - 0s 4ms/step - loss: 0.7514 - categorical_accuracy: 0.0000e+00\n",
            "Epoch 10/20\n",
            "26/26 [==============================] - 0s 4ms/step - loss: 0.7385 - categorical_accuracy: 0.0000e+00\n",
            "Epoch 11/20\n",
            "26/26 [==============================] - 0s 4ms/step - loss: 0.7280 - categorical_accuracy: 0.0000e+00\n",
            "Epoch 12/20\n",
            "26/26 [==============================] - 0s 4ms/step - loss: 0.7204 - categorical_accuracy: 0.0000e+00\n",
            "Epoch 13/20\n",
            "26/26 [==============================] - 0s 4ms/step - loss: 0.7123 - categorical_accuracy: 0.0000e+00\n",
            "Epoch 14/20\n",
            "26/26 [==============================] - 0s 4ms/step - loss: 0.7065 - categorical_accuracy: 0.0000e+00\n",
            "Epoch 15/20\n",
            "26/26 [==============================] - 0s 4ms/step - loss: 0.6996 - categorical_accuracy: 0.0000e+00\n",
            "Epoch 16/20\n",
            "26/26 [==============================] - 0s 4ms/step - loss: 0.6939 - categorical_accuracy: 0.0000e+00\n",
            "Epoch 17/20\n",
            "26/26 [==============================] - 0s 4ms/step - loss: 0.6887 - categorical_accuracy: 0.0000e+00\n",
            "Epoch 18/20\n",
            "26/26 [==============================] - 0s 4ms/step - loss: 0.6823 - categorical_accuracy: 0.0000e+00\n",
            "Epoch 19/20\n",
            "26/26 [==============================] - 0s 4ms/step - loss: 0.6766 - categorical_accuracy: 0.0000e+00\n",
            "Epoch 20/20\n",
            "26/26 [==============================] - 0s 4ms/step - loss: 0.6708 - categorical_accuracy: 0.0000e+00\n",
            "7/7 [==============================] - 0s 2ms/step\n"
          ]
        }
      ],
      "source": [
        "num_crossval_folds = 5  # for efficiency; values like 5 or 10 will generally work better\n",
        "pred_probs = cross_val_predict(\n",
        "    model,\n",
        "    full_texts,\n",
        "    full_labels,\n",
        "    cv=num_crossval_folds,\n",
        "    method=\"predict_proba\",\n",
        ")"
      ]
    },
    {
      "cell_type": "code",
      "execution_count": 184,
      "metadata": {
        "execution": {
          "iopub.execute_input": "2022-11-28T16:43:43.171720Z",
          "iopub.status.busy": "2022-11-28T16:43:43.171271Z",
          "iopub.status.idle": "2022-11-28T16:43:43.185747Z",
          "shell.execute_reply": "2022-11-28T16:43:43.184990Z"
        },
        "id": "PIshraXQO7GM",
        "colab": {
          "base_uri": "https://localhost:8080/"
        },
        "outputId": "6575c47b-fe3f-4f10-e9ca-e03ae7c9572f"
      },
      "outputs": [
        {
          "output_type": "stream",
          "name": "stdout",
          "text": [
            "Cross-validated estimate of log loss: 0.665\n"
          ]
        }
      ],
      "source": [
        "loss = log_loss(full_labels, pred_probs)  # score to evaluate probabilistic predictions, lower values are better\n",
        "print(f\"Cross-validated estimate of log loss: {loss:.3f}\")"
      ]
    },
    {
      "cell_type": "code",
      "execution_count": 185,
      "metadata": {
        "execution": {
          "iopub.execute_input": "2022-11-28T16:43:43.189550Z",
          "iopub.status.busy": "2022-11-28T16:43:43.189290Z",
          "iopub.status.idle": "2022-11-28T16:43:43.879186Z",
          "shell.execute_reply": "2022-11-28T16:43:43.878002Z"
        },
        "id": "oeeUzFJUO7GN"
      },
      "outputs": [],
      "source": [
        "from cleanlab.filter import find_label_issues\n",
        "\n",
        "ranked_label_issues = find_label_issues(\n",
        "    labels=full_labels, pred_probs=pred_probs, return_indices_ranked_by=\"self_confidence\"\n",
        ")"
      ]
    },
    {
      "cell_type": "code",
      "execution_count": 186,
      "metadata": {
        "execution": {
          "iopub.execute_input": "2022-11-28T16:43:43.883877Z",
          "iopub.status.busy": "2022-11-28T16:43:43.883407Z",
          "iopub.status.idle": "2022-11-28T16:43:43.887709Z",
          "shell.execute_reply": "2022-11-28T16:43:43.887164Z"
        },
        "id": "_UckiEHeO7GN",
        "colab": {
          "base_uri": "https://localhost:8080/"
        },
        "outputId": "9a95c949-f854-4be0-d4dc-f354de049f1c"
      },
      "outputs": [
        {
          "output_type": "stream",
          "name": "stdout",
          "text": [
            "cleanlab found 179 potential label errors.\n",
            "Here are indices of the top 10 most likely errors: \n",
            " [309 359 315  38 991 425 562 135  41 157]\n"
          ]
        }
      ],
      "source": [
        "print(\n",
        "    f\"cleanlab found {len(ranked_label_issues)} potential label errors.\\n\"\n",
        "    f\"Here are indices of the top 10 most likely errors: \\n {ranked_label_issues[:10]}\"\n",
        ")"
      ]
    },
    {
      "cell_type": "code",
      "execution_count": 187,
      "metadata": {
        "execution": {
          "iopub.execute_input": "2022-11-28T16:43:43.890991Z",
          "iopub.status.busy": "2022-11-28T16:43:43.890532Z",
          "iopub.status.idle": "2022-11-28T16:43:43.894361Z",
          "shell.execute_reply": "2022-11-28T16:43:43.893664Z"
        },
        "id": "K3CS1xB0O7GN"
      },
      "outputs": [],
      "source": [
        "def print_as_df(index):\n",
        "    return pd.DataFrame(\n",
        "        {\"texts\": raw_full_texts[index], \"labels\": full_labels[index]},\n",
        "        [index]\n",
        "    )"
      ]
    },
    {
      "cell_type": "code",
      "source": [
        "for i, label in enumerate(raw_full_ds.class_names):\n",
        "  print(\"Label\", i, \"corresponds to\", label)"
      ],
      "metadata": {
        "id": "ndK-To3s8VUM",
        "colab": {
          "base_uri": "https://localhost:8080/"
        },
        "outputId": "abf314b1-c2a9-4be4-87a1-ed03516d80ce"
      },
      "execution_count": 188,
      "outputs": [
        {
          "output_type": "stream",
          "name": "stdout",
          "text": [
            "Label 0 corresponds to close\n",
            "Label 1 corresponds to open\n",
            "Label 2 corresponds to unknown\n"
          ]
        }
      ]
    },
    {
      "cell_type": "code",
      "execution_count": 189,
      "metadata": {
        "execution": {
          "iopub.execute_input": "2022-11-28T16:43:43.897843Z",
          "iopub.status.busy": "2022-11-28T16:43:43.897222Z",
          "iopub.status.idle": "2022-11-28T16:43:43.914058Z",
          "shell.execute_reply": "2022-11-28T16:43:43.913336Z"
        },
        "id": "8eeewovGO7GO",
        "colab": {
          "base_uri": "https://localhost:8080/",
          "height": 81
        },
        "outputId": "5239e88f-f46d-423e-8ca2-08132974764b"
      },
      "outputs": [
        {
          "output_type": "execute_result",
          "data": {
            "text/plain": [
              "                               texts  labels\n",
              "309  b'Redundant \"Public\" modifier.'       0"
            ],
            "text/html": [
              "\n",
              "  <div id=\"df-25389e1e-88fe-4b86-896b-3dc83df94fda\">\n",
              "    <div class=\"colab-df-container\">\n",
              "      <div>\n",
              "<style scoped>\n",
              "    .dataframe tbody tr th:only-of-type {\n",
              "        vertical-align: middle;\n",
              "    }\n",
              "\n",
              "    .dataframe tbody tr th {\n",
              "        vertical-align: top;\n",
              "    }\n",
              "\n",
              "    .dataframe thead th {\n",
              "        text-align: right;\n",
              "    }\n",
              "</style>\n",
              "<table border=\"1\" class=\"dataframe\">\n",
              "  <thead>\n",
              "    <tr style=\"text-align: right;\">\n",
              "      <th></th>\n",
              "      <th>texts</th>\n",
              "      <th>labels</th>\n",
              "    </tr>\n",
              "  </thead>\n",
              "  <tbody>\n",
              "    <tr>\n",
              "      <th>309</th>\n",
              "      <td>b'Redundant \"Public\" modifier.'</td>\n",
              "      <td>0</td>\n",
              "    </tr>\n",
              "  </tbody>\n",
              "</table>\n",
              "</div>\n",
              "      <button class=\"colab-df-convert\" onclick=\"convertToInteractive('df-25389e1e-88fe-4b86-896b-3dc83df94fda')\"\n",
              "              title=\"Convert this dataframe to an interactive table.\"\n",
              "              style=\"display:none;\">\n",
              "        \n",
              "  <svg xmlns=\"http://www.w3.org/2000/svg\" height=\"24px\"viewBox=\"0 0 24 24\"\n",
              "       width=\"24px\">\n",
              "    <path d=\"M0 0h24v24H0V0z\" fill=\"none\"/>\n",
              "    <path d=\"M18.56 5.44l.94 2.06.94-2.06 2.06-.94-2.06-.94-.94-2.06-.94 2.06-2.06.94zm-11 1L8.5 8.5l.94-2.06 2.06-.94-2.06-.94L8.5 2.5l-.94 2.06-2.06.94zm10 10l.94 2.06.94-2.06 2.06-.94-2.06-.94-.94-2.06-.94 2.06-2.06.94z\"/><path d=\"M17.41 7.96l-1.37-1.37c-.4-.4-.92-.59-1.43-.59-.52 0-1.04.2-1.43.59L10.3 9.45l-7.72 7.72c-.78.78-.78 2.05 0 2.83L4 21.41c.39.39.9.59 1.41.59.51 0 1.02-.2 1.41-.59l7.78-7.78 2.81-2.81c.8-.78.8-2.07 0-2.86zM5.41 20L4 18.59l7.72-7.72 1.47 1.35L5.41 20z\"/>\n",
              "  </svg>\n",
              "      </button>\n",
              "      \n",
              "  <style>\n",
              "    .colab-df-container {\n",
              "      display:flex;\n",
              "      flex-wrap:wrap;\n",
              "      gap: 12px;\n",
              "    }\n",
              "\n",
              "    .colab-df-convert {\n",
              "      background-color: #E8F0FE;\n",
              "      border: none;\n",
              "      border-radius: 50%;\n",
              "      cursor: pointer;\n",
              "      display: none;\n",
              "      fill: #1967D2;\n",
              "      height: 32px;\n",
              "      padding: 0 0 0 0;\n",
              "      width: 32px;\n",
              "    }\n",
              "\n",
              "    .colab-df-convert:hover {\n",
              "      background-color: #E2EBFA;\n",
              "      box-shadow: 0px 1px 2px rgba(60, 64, 67, 0.3), 0px 1px 3px 1px rgba(60, 64, 67, 0.15);\n",
              "      fill: #174EA6;\n",
              "    }\n",
              "\n",
              "    [theme=dark] .colab-df-convert {\n",
              "      background-color: #3B4455;\n",
              "      fill: #D2E3FC;\n",
              "    }\n",
              "\n",
              "    [theme=dark] .colab-df-convert:hover {\n",
              "      background-color: #434B5C;\n",
              "      box-shadow: 0px 1px 3px 1px rgba(0, 0, 0, 0.15);\n",
              "      filter: drop-shadow(0px 1px 2px rgba(0, 0, 0, 0.3));\n",
              "      fill: #FFFFFF;\n",
              "    }\n",
              "  </style>\n",
              "\n",
              "      <script>\n",
              "        const buttonEl =\n",
              "          document.querySelector('#df-25389e1e-88fe-4b86-896b-3dc83df94fda button.colab-df-convert');\n",
              "        buttonEl.style.display =\n",
              "          google.colab.kernel.accessAllowed ? 'block' : 'none';\n",
              "\n",
              "        async function convertToInteractive(key) {\n",
              "          const element = document.querySelector('#df-25389e1e-88fe-4b86-896b-3dc83df94fda');\n",
              "          const dataTable =\n",
              "            await google.colab.kernel.invokeFunction('convertToInteractive',\n",
              "                                                     [key], {});\n",
              "          if (!dataTable) return;\n",
              "\n",
              "          const docLinkHtml = 'Like what you see? Visit the ' +\n",
              "            '<a target=\"_blank\" href=https://colab.research.google.com/notebooks/data_table.ipynb>data table notebook</a>'\n",
              "            + ' to learn more about interactive tables.';\n",
              "          element.innerHTML = '';\n",
              "          dataTable['output_type'] = 'display_data';\n",
              "          await google.colab.output.renderOutput(dataTable, element);\n",
              "          const docLink = document.createElement('div');\n",
              "          docLink.innerHTML = docLinkHtml;\n",
              "          element.appendChild(docLink);\n",
              "        }\n",
              "      </script>\n",
              "    </div>\n",
              "  </div>\n",
              "  "
            ]
          },
          "metadata": {},
          "execution_count": 189
        }
      ],
      "source": [
        "print_as_df(ranked_label_issues[0])"
      ]
    },
    {
      "cell_type": "code",
      "execution_count": 190,
      "metadata": {
        "execution": {
          "iopub.execute_input": "2022-11-28T16:43:43.917347Z",
          "iopub.status.busy": "2022-11-28T16:43:43.917111Z",
          "iopub.status.idle": "2022-11-28T16:43:43.927642Z",
          "shell.execute_reply": "2022-11-28T16:43:43.926927Z"
        },
        "id": "mO80T2QXO7GO",
        "colab": {
          "base_uri": "https://localhost:8080/",
          "height": 81
        },
        "outputId": "9eba8beb-d91c-4eca-d50d-43f23e8e542c"
      },
      "outputs": [
        {
          "output_type": "execute_result",
          "data": {
            "text/plain": [
              "                                    texts  labels\n",
              "359  b'Parameter docType should be final'       0"
            ],
            "text/html": [
              "\n",
              "  <div id=\"df-46575830-3522-4b07-ba61-cd775a4bae92\">\n",
              "    <div class=\"colab-df-container\">\n",
              "      <div>\n",
              "<style scoped>\n",
              "    .dataframe tbody tr th:only-of-type {\n",
              "        vertical-align: middle;\n",
              "    }\n",
              "\n",
              "    .dataframe tbody tr th {\n",
              "        vertical-align: top;\n",
              "    }\n",
              "\n",
              "    .dataframe thead th {\n",
              "        text-align: right;\n",
              "    }\n",
              "</style>\n",
              "<table border=\"1\" class=\"dataframe\">\n",
              "  <thead>\n",
              "    <tr style=\"text-align: right;\">\n",
              "      <th></th>\n",
              "      <th>texts</th>\n",
              "      <th>labels</th>\n",
              "    </tr>\n",
              "  </thead>\n",
              "  <tbody>\n",
              "    <tr>\n",
              "      <th>359</th>\n",
              "      <td>b'Parameter docType should be final'</td>\n",
              "      <td>0</td>\n",
              "    </tr>\n",
              "  </tbody>\n",
              "</table>\n",
              "</div>\n",
              "      <button class=\"colab-df-convert\" onclick=\"convertToInteractive('df-46575830-3522-4b07-ba61-cd775a4bae92')\"\n",
              "              title=\"Convert this dataframe to an interactive table.\"\n",
              "              style=\"display:none;\">\n",
              "        \n",
              "  <svg xmlns=\"http://www.w3.org/2000/svg\" height=\"24px\"viewBox=\"0 0 24 24\"\n",
              "       width=\"24px\">\n",
              "    <path d=\"M0 0h24v24H0V0z\" fill=\"none\"/>\n",
              "    <path d=\"M18.56 5.44l.94 2.06.94-2.06 2.06-.94-2.06-.94-.94-2.06-.94 2.06-2.06.94zm-11 1L8.5 8.5l.94-2.06 2.06-.94-2.06-.94L8.5 2.5l-.94 2.06-2.06.94zm10 10l.94 2.06.94-2.06 2.06-.94-2.06-.94-.94-2.06-.94 2.06-2.06.94z\"/><path d=\"M17.41 7.96l-1.37-1.37c-.4-.4-.92-.59-1.43-.59-.52 0-1.04.2-1.43.59L10.3 9.45l-7.72 7.72c-.78.78-.78 2.05 0 2.83L4 21.41c.39.39.9.59 1.41.59.51 0 1.02-.2 1.41-.59l7.78-7.78 2.81-2.81c.8-.78.8-2.07 0-2.86zM5.41 20L4 18.59l7.72-7.72 1.47 1.35L5.41 20z\"/>\n",
              "  </svg>\n",
              "      </button>\n",
              "      \n",
              "  <style>\n",
              "    .colab-df-container {\n",
              "      display:flex;\n",
              "      flex-wrap:wrap;\n",
              "      gap: 12px;\n",
              "    }\n",
              "\n",
              "    .colab-df-convert {\n",
              "      background-color: #E8F0FE;\n",
              "      border: none;\n",
              "      border-radius: 50%;\n",
              "      cursor: pointer;\n",
              "      display: none;\n",
              "      fill: #1967D2;\n",
              "      height: 32px;\n",
              "      padding: 0 0 0 0;\n",
              "      width: 32px;\n",
              "    }\n",
              "\n",
              "    .colab-df-convert:hover {\n",
              "      background-color: #E2EBFA;\n",
              "      box-shadow: 0px 1px 2px rgba(60, 64, 67, 0.3), 0px 1px 3px 1px rgba(60, 64, 67, 0.15);\n",
              "      fill: #174EA6;\n",
              "    }\n",
              "\n",
              "    [theme=dark] .colab-df-convert {\n",
              "      background-color: #3B4455;\n",
              "      fill: #D2E3FC;\n",
              "    }\n",
              "\n",
              "    [theme=dark] .colab-df-convert:hover {\n",
              "      background-color: #434B5C;\n",
              "      box-shadow: 0px 1px 3px 1px rgba(0, 0, 0, 0.15);\n",
              "      filter: drop-shadow(0px 1px 2px rgba(0, 0, 0, 0.3));\n",
              "      fill: #FFFFFF;\n",
              "    }\n",
              "  </style>\n",
              "\n",
              "      <script>\n",
              "        const buttonEl =\n",
              "          document.querySelector('#df-46575830-3522-4b07-ba61-cd775a4bae92 button.colab-df-convert');\n",
              "        buttonEl.style.display =\n",
              "          google.colab.kernel.accessAllowed ? 'block' : 'none';\n",
              "\n",
              "        async function convertToInteractive(key) {\n",
              "          const element = document.querySelector('#df-46575830-3522-4b07-ba61-cd775a4bae92');\n",
              "          const dataTable =\n",
              "            await google.colab.kernel.invokeFunction('convertToInteractive',\n",
              "                                                     [key], {});\n",
              "          if (!dataTable) return;\n",
              "\n",
              "          const docLinkHtml = 'Like what you see? Visit the ' +\n",
              "            '<a target=\"_blank\" href=https://colab.research.google.com/notebooks/data_table.ipynb>data table notebook</a>'\n",
              "            + ' to learn more about interactive tables.';\n",
              "          element.innerHTML = '';\n",
              "          dataTable['output_type'] = 'display_data';\n",
              "          await google.colab.output.renderOutput(dataTable, element);\n",
              "          const docLink = document.createElement('div');\n",
              "          docLink.innerHTML = docLinkHtml;\n",
              "          element.appendChild(docLink);\n",
              "        }\n",
              "      </script>\n",
              "    </div>\n",
              "  </div>\n",
              "  "
            ]
          },
          "metadata": {},
          "execution_count": 190
        }
      ],
      "source": [
        "print_as_df(ranked_label_issues[1])"
      ]
    },
    {
      "cell_type": "code",
      "execution_count": 191,
      "metadata": {
        "execution": {
          "iopub.execute_input": "2022-11-28T16:43:43.930879Z",
          "iopub.status.busy": "2022-11-28T16:43:43.930639Z",
          "iopub.status.idle": "2022-11-28T16:43:43.937595Z",
          "shell.execute_reply": "2022-11-28T16:43:43.937034Z"
        },
        "id": "TuhNAjaBO7GO",
        "colab": {
          "base_uri": "https://localhost:8080/",
          "height": 81
        },
        "outputId": "176c3b85-97b4-49a6-938a-ee57a1d0f67e"
      },
      "outputs": [
        {
          "output_type": "execute_result",
          "data": {
            "text/plain": [
              "                                             texts  labels\n",
              "315  b\"'X' is a magic number (immediate constant)\"       0"
            ],
            "text/html": [
              "\n",
              "  <div id=\"df-50c44d35-4bcb-4dd9-8cc6-5ad43f636c2b\">\n",
              "    <div class=\"colab-df-container\">\n",
              "      <div>\n",
              "<style scoped>\n",
              "    .dataframe tbody tr th:only-of-type {\n",
              "        vertical-align: middle;\n",
              "    }\n",
              "\n",
              "    .dataframe tbody tr th {\n",
              "        vertical-align: top;\n",
              "    }\n",
              "\n",
              "    .dataframe thead th {\n",
              "        text-align: right;\n",
              "    }\n",
              "</style>\n",
              "<table border=\"1\" class=\"dataframe\">\n",
              "  <thead>\n",
              "    <tr style=\"text-align: right;\">\n",
              "      <th></th>\n",
              "      <th>texts</th>\n",
              "      <th>labels</th>\n",
              "    </tr>\n",
              "  </thead>\n",
              "  <tbody>\n",
              "    <tr>\n",
              "      <th>315</th>\n",
              "      <td>b\"'X' is a magic number (immediate constant)\"</td>\n",
              "      <td>0</td>\n",
              "    </tr>\n",
              "  </tbody>\n",
              "</table>\n",
              "</div>\n",
              "      <button class=\"colab-df-convert\" onclick=\"convertToInteractive('df-50c44d35-4bcb-4dd9-8cc6-5ad43f636c2b')\"\n",
              "              title=\"Convert this dataframe to an interactive table.\"\n",
              "              style=\"display:none;\">\n",
              "        \n",
              "  <svg xmlns=\"http://www.w3.org/2000/svg\" height=\"24px\"viewBox=\"0 0 24 24\"\n",
              "       width=\"24px\">\n",
              "    <path d=\"M0 0h24v24H0V0z\" fill=\"none\"/>\n",
              "    <path d=\"M18.56 5.44l.94 2.06.94-2.06 2.06-.94-2.06-.94-.94-2.06-.94 2.06-2.06.94zm-11 1L8.5 8.5l.94-2.06 2.06-.94-2.06-.94L8.5 2.5l-.94 2.06-2.06.94zm10 10l.94 2.06.94-2.06 2.06-.94-2.06-.94-.94-2.06-.94 2.06-2.06.94z\"/><path d=\"M17.41 7.96l-1.37-1.37c-.4-.4-.92-.59-1.43-.59-.52 0-1.04.2-1.43.59L10.3 9.45l-7.72 7.72c-.78.78-.78 2.05 0 2.83L4 21.41c.39.39.9.59 1.41.59.51 0 1.02-.2 1.41-.59l7.78-7.78 2.81-2.81c.8-.78.8-2.07 0-2.86zM5.41 20L4 18.59l7.72-7.72 1.47 1.35L5.41 20z\"/>\n",
              "  </svg>\n",
              "      </button>\n",
              "      \n",
              "  <style>\n",
              "    .colab-df-container {\n",
              "      display:flex;\n",
              "      flex-wrap:wrap;\n",
              "      gap: 12px;\n",
              "    }\n",
              "\n",
              "    .colab-df-convert {\n",
              "      background-color: #E8F0FE;\n",
              "      border: none;\n",
              "      border-radius: 50%;\n",
              "      cursor: pointer;\n",
              "      display: none;\n",
              "      fill: #1967D2;\n",
              "      height: 32px;\n",
              "      padding: 0 0 0 0;\n",
              "      width: 32px;\n",
              "    }\n",
              "\n",
              "    .colab-df-convert:hover {\n",
              "      background-color: #E2EBFA;\n",
              "      box-shadow: 0px 1px 2px rgba(60, 64, 67, 0.3), 0px 1px 3px 1px rgba(60, 64, 67, 0.15);\n",
              "      fill: #174EA6;\n",
              "    }\n",
              "\n",
              "    [theme=dark] .colab-df-convert {\n",
              "      background-color: #3B4455;\n",
              "      fill: #D2E3FC;\n",
              "    }\n",
              "\n",
              "    [theme=dark] .colab-df-convert:hover {\n",
              "      background-color: #434B5C;\n",
              "      box-shadow: 0px 1px 3px 1px rgba(0, 0, 0, 0.15);\n",
              "      filter: drop-shadow(0px 1px 2px rgba(0, 0, 0, 0.3));\n",
              "      fill: #FFFFFF;\n",
              "    }\n",
              "  </style>\n",
              "\n",
              "      <script>\n",
              "        const buttonEl =\n",
              "          document.querySelector('#df-50c44d35-4bcb-4dd9-8cc6-5ad43f636c2b button.colab-df-convert');\n",
              "        buttonEl.style.display =\n",
              "          google.colab.kernel.accessAllowed ? 'block' : 'none';\n",
              "\n",
              "        async function convertToInteractive(key) {\n",
              "          const element = document.querySelector('#df-50c44d35-4bcb-4dd9-8cc6-5ad43f636c2b');\n",
              "          const dataTable =\n",
              "            await google.colab.kernel.invokeFunction('convertToInteractive',\n",
              "                                                     [key], {});\n",
              "          if (!dataTable) return;\n",
              "\n",
              "          const docLinkHtml = 'Like what you see? Visit the ' +\n",
              "            '<a target=\"_blank\" href=https://colab.research.google.com/notebooks/data_table.ipynb>data table notebook</a>'\n",
              "            + ' to learn more about interactive tables.';\n",
              "          element.innerHTML = '';\n",
              "          dataTable['output_type'] = 'display_data';\n",
              "          await google.colab.output.renderOutput(dataTable, element);\n",
              "          const docLink = document.createElement('div');\n",
              "          docLink.innerHTML = docLinkHtml;\n",
              "          element.appendChild(docLink);\n",
              "        }\n",
              "      </script>\n",
              "    </div>\n",
              "  </div>\n",
              "  "
            ]
          },
          "metadata": {},
          "execution_count": 191
        }
      ],
      "source": [
        "print_as_df(ranked_label_issues[2])"
      ]
    },
    {
      "cell_type": "code",
      "source": [
        "print_as_df(ranked_label_issues[3])"
      ],
      "metadata": {
        "id": "i0_xITTiHUQb",
        "colab": {
          "base_uri": "https://localhost:8080/",
          "height": 81
        },
        "outputId": "0b34fe4b-6c59-440b-a990-8d56f3b2b1b7"
      },
      "execution_count": 192,
      "outputs": [
        {
          "output_type": "execute_result",
          "data": {
            "text/plain": [
              "                                                   texts  labels\n",
              "38  b'Variable \"ABC\" must match pattern \"[a-zA-Z0-9]*$\"'       0"
            ],
            "text/html": [
              "\n",
              "  <div id=\"df-c6042e68-549f-4fdb-970d-3e4ec5e90a9d\">\n",
              "    <div class=\"colab-df-container\">\n",
              "      <div>\n",
              "<style scoped>\n",
              "    .dataframe tbody tr th:only-of-type {\n",
              "        vertical-align: middle;\n",
              "    }\n",
              "\n",
              "    .dataframe tbody tr th {\n",
              "        vertical-align: top;\n",
              "    }\n",
              "\n",
              "    .dataframe thead th {\n",
              "        text-align: right;\n",
              "    }\n",
              "</style>\n",
              "<table border=\"1\" class=\"dataframe\">\n",
              "  <thead>\n",
              "    <tr style=\"text-align: right;\">\n",
              "      <th></th>\n",
              "      <th>texts</th>\n",
              "      <th>labels</th>\n",
              "    </tr>\n",
              "  </thead>\n",
              "  <tbody>\n",
              "    <tr>\n",
              "      <th>38</th>\n",
              "      <td>b'Variable \"ABC\" must match pattern \"[a-zA-Z0-9]*$\"'</td>\n",
              "      <td>0</td>\n",
              "    </tr>\n",
              "  </tbody>\n",
              "</table>\n",
              "</div>\n",
              "      <button class=\"colab-df-convert\" onclick=\"convertToInteractive('df-c6042e68-549f-4fdb-970d-3e4ec5e90a9d')\"\n",
              "              title=\"Convert this dataframe to an interactive table.\"\n",
              "              style=\"display:none;\">\n",
              "        \n",
              "  <svg xmlns=\"http://www.w3.org/2000/svg\" height=\"24px\"viewBox=\"0 0 24 24\"\n",
              "       width=\"24px\">\n",
              "    <path d=\"M0 0h24v24H0V0z\" fill=\"none\"/>\n",
              "    <path d=\"M18.56 5.44l.94 2.06.94-2.06 2.06-.94-2.06-.94-.94-2.06-.94 2.06-2.06.94zm-11 1L8.5 8.5l.94-2.06 2.06-.94-2.06-.94L8.5 2.5l-.94 2.06-2.06.94zm10 10l.94 2.06.94-2.06 2.06-.94-2.06-.94-.94-2.06-.94 2.06-2.06.94z\"/><path d=\"M17.41 7.96l-1.37-1.37c-.4-.4-.92-.59-1.43-.59-.52 0-1.04.2-1.43.59L10.3 9.45l-7.72 7.72c-.78.78-.78 2.05 0 2.83L4 21.41c.39.39.9.59 1.41.59.51 0 1.02-.2 1.41-.59l7.78-7.78 2.81-2.81c.8-.78.8-2.07 0-2.86zM5.41 20L4 18.59l7.72-7.72 1.47 1.35L5.41 20z\"/>\n",
              "  </svg>\n",
              "      </button>\n",
              "      \n",
              "  <style>\n",
              "    .colab-df-container {\n",
              "      display:flex;\n",
              "      flex-wrap:wrap;\n",
              "      gap: 12px;\n",
              "    }\n",
              "\n",
              "    .colab-df-convert {\n",
              "      background-color: #E8F0FE;\n",
              "      border: none;\n",
              "      border-radius: 50%;\n",
              "      cursor: pointer;\n",
              "      display: none;\n",
              "      fill: #1967D2;\n",
              "      height: 32px;\n",
              "      padding: 0 0 0 0;\n",
              "      width: 32px;\n",
              "    }\n",
              "\n",
              "    .colab-df-convert:hover {\n",
              "      background-color: #E2EBFA;\n",
              "      box-shadow: 0px 1px 2px rgba(60, 64, 67, 0.3), 0px 1px 3px 1px rgba(60, 64, 67, 0.15);\n",
              "      fill: #174EA6;\n",
              "    }\n",
              "\n",
              "    [theme=dark] .colab-df-convert {\n",
              "      background-color: #3B4455;\n",
              "      fill: #D2E3FC;\n",
              "    }\n",
              "\n",
              "    [theme=dark] .colab-df-convert:hover {\n",
              "      background-color: #434B5C;\n",
              "      box-shadow: 0px 1px 3px 1px rgba(0, 0, 0, 0.15);\n",
              "      filter: drop-shadow(0px 1px 2px rgba(0, 0, 0, 0.3));\n",
              "      fill: #FFFFFF;\n",
              "    }\n",
              "  </style>\n",
              "\n",
              "      <script>\n",
              "        const buttonEl =\n",
              "          document.querySelector('#df-c6042e68-549f-4fdb-970d-3e4ec5e90a9d button.colab-df-convert');\n",
              "        buttonEl.style.display =\n",
              "          google.colab.kernel.accessAllowed ? 'block' : 'none';\n",
              "\n",
              "        async function convertToInteractive(key) {\n",
              "          const element = document.querySelector('#df-c6042e68-549f-4fdb-970d-3e4ec5e90a9d');\n",
              "          const dataTable =\n",
              "            await google.colab.kernel.invokeFunction('convertToInteractive',\n",
              "                                                     [key], {});\n",
              "          if (!dataTable) return;\n",
              "\n",
              "          const docLinkHtml = 'Like what you see? Visit the ' +\n",
              "            '<a target=\"_blank\" href=https://colab.research.google.com/notebooks/data_table.ipynb>data table notebook</a>'\n",
              "            + ' to learn more about interactive tables.';\n",
              "          element.innerHTML = '';\n",
              "          dataTable['output_type'] = 'display_data';\n",
              "          await google.colab.output.renderOutput(dataTable, element);\n",
              "          const docLink = document.createElement('div');\n",
              "          docLink.innerHTML = docLinkHtml;\n",
              "          element.appendChild(docLink);\n",
              "        }\n",
              "      </script>\n",
              "    </div>\n",
              "  </div>\n",
              "  "
            ]
          },
          "metadata": {},
          "execution_count": 192
        }
      ]
    }
  ],
  "metadata": {
    "colab": {
      "provenance": []
    },
    "kernelspec": {
      "display_name": "Python 3 (ipykernel)",
      "language": "python",
      "name": "python3"
    },
    "language_info": {
      "codemirror_mode": {
        "name": "ipython",
        "version": 3
      },
      "file_extension": ".py",
      "mimetype": "text/x-python",
      "name": "python",
      "nbconvert_exporter": "python",
      "pygments_lexer": "ipython3",
      "version": "3.8.14"
    },
    "accelerator": "GPU",
    "gpuClass": "standard"
  },
  "nbformat": 4,
  "nbformat_minor": 0
}